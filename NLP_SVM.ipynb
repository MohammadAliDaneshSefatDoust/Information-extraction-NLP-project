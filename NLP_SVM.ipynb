{
 "cells": [
  {
   "cell_type": "markdown",
   "metadata": {
    "id": "kekQs2TatvK_"
   },
   "source": [
    "Mounting Colab on Drive"
   ]
  },
  {
   "cell_type": "code",
   "execution_count": null,
   "metadata": {
    "colab": {
     "base_uri": "https://localhost:8080/"
    },
    "id": "RWSJpsyKqHjH",
    "outputId": "eca76c4d-a888-428e-bab7-68aac83a628b"
   },
   "outputs": [
    {
     "name": "stdout",
     "output_type": "stream",
     "text": [
      "Mounted at /content/drive\n"
     ]
    }
   ],
   "source": [
    "from google.colab import drive\n",
    "drive.mount('/content/drive')"
   ]
  },
  {
   "cell_type": "markdown",
   "metadata": {
    "id": "csGsE0ZZt07G"
   },
   "source": [
    "Importing necessary Libraries"
   ]
  },
  {
   "cell_type": "code",
   "execution_count": null,
   "metadata": {
    "id": "FIdJowi23Qiw"
   },
   "outputs": [],
   "source": [
    "import io\n",
    "import csv\n",
    "import tensorflow as tf\n",
    "import numpy as np\n",
    "import pandas as pd\n",
    "import random\n",
    "from tensorflow.keras.preprocessing.text import Tokenizer\n",
    "from tensorflow.keras.preprocessing.sequence import pad_sequences\n",
    "import matplotlib.pyplot as plt"
   ]
  },
  {
   "cell_type": "markdown",
   "metadata": {
    "id": "32PWEwRYt-9o"
   },
   "source": [
    "Reading data from cvs file into a list"
   ]
  },
  {
   "cell_type": "code",
   "execution_count": null,
   "metadata": {
    "colab": {
     "base_uri": "https://localhost:8080/"
    },
    "id": "Tc-oMCQO3mvv",
    "outputId": "ff93f60b-f564-4241-8b20-a08b59bff867"
   },
   "outputs": [
    {
     "name": "stdout",
     "output_type": "stream",
     "text": [
      "[\"One of the main ways that Facebook addicts users is games, and now Google+ is following Facebook into gaming.\\n\\nGoogle began introducing games on its social network Thursday, and while it is starting with just a few options, they include big-name games like Angry Birds from Rovio, Bejeweled Blitz from PopCap Games and, most notably, Zynga Poker.\\n\\nZynga has built the vast majority of its business on Facebook, and that business is thriving - Zynga has filed to go public and says it earned $90 million in profit on sales of $597 million last year. But analysts have also criticized it for relying too much on one platform.\\n\\nThat is about to change. Google+ has been growing remarkably quickly, and already it rivals existing social networks. Though it does not have Zynga's most well-known games, FarmVille and Mafia Wars, the two companies already have a partnership because Google has invested in Zynga.\\n\\nGoogle+ users will see a Games page at the top of their news feeds and can click on it to play games or see gaming updates from friends. But updates will be shared only with select circles of people when users are on the Games page, so they will not appear in general news feeds - something that has annoyed Facebook users in the past.\\n\\n''If you're not interested in games, it's easy to ignore them,'' Vic Gundotra, a senior vice president of engineering at Google who developed its social network, wrote in a blog post. ''Your stream will remain focused on conversations with the people you care about.''\\n\\nMeanwhile, Facebook held an event for gaming developers Thursday night and invited reporters to demo new gaming products and speak with developers Friday.\\n\\nGoogle also sent a message to software developers, who have been clamoring to build apps for Google+. It said it was working with only a few game developers now but would open the doors to other developers as soon as it worked out some kinks. Google will invite developers slowly, it said, emphasizing the quality of apps over quantity.\", '1']\n"
     ]
    }
   ],
   "source": [
    "data= []\n",
    "with open(\"/content/drive/MyDrive/English_Dataset.csv\", 'r') as csvfile:\n",
    "    reader = csv.reader(csvfile)\n",
    "    next(reader)\n",
    "    for row in reader:\n",
    "        data.append(row)\n",
    "random.seed(0)\n",
    "random.shuffle(data)\n",
    "print(data[0])       "
   ]
  },
  {
   "cell_type": "markdown",
   "metadata": {
    "id": "6Fsbh9nvuGor"
   },
   "source": [
    "Parsing data from the list and convert upper case letters to lower case"
   ]
  },
  {
   "cell_type": "code",
   "execution_count": null,
   "metadata": {
    "colab": {
     "base_uri": "https://localhost:8080/"
    },
    "id": "DhsOzQMUHhMk",
    "outputId": "1aa03def-160d-42d0-8d5b-4e090749c1ff"
   },
   "outputs": [
    {
     "name": "stdout",
     "output_type": "stream",
     "text": [
      "one of the main ways that facebook addicts users is games, and now google+ is following facebook into gaming. google began introducing games on its social network thursday, and while it is starting with just a few options, they include big-name games like angry birds from rovio, bejeweled blitz from popcap games and, most notably, zynga poker. zynga has built the vast majority of its business on facebook, and that business is thriving - zynga has filed to go public and says it earned $90 million in profit on sales of $597 million last year. but analysts have also criticized it for relying too much on one platform. that is about to change. google+ has been growing remarkably quickly, and already it rivals existing social networks. though it does not have zynga's most well-known games, farmville and mafia wars, the two companies already have a partnership because google has invested in zynga. google+ users will see a games page at the top of their news feeds and can click on it to play games or see gaming updates from friends. but updates will be shared only with select circles of people when users are on the games page, so they will not appear in general news feeds - something that has annoyed facebook users in the past. ''if you're not interested in games, it's easy to ignore them,'' vic gundotra, a senior vice president of engineering at google who developed its social network, wrote in a blog post. ''your stream will remain focused on conversations with the people you care about.'' meanwhile, facebook held an event for gaming developers thursday night and invited reporters to demo new gaming products and speak with developers friday. google also sent a message to software developers, who have been clamoring to build apps for google+. it said it was working with only a few game developers now but would open the doors to other developers as soon as it worked out some kinks. google will invite developers slowly, it said, emphasizing the quality of apps over quantity.\n",
      "\n",
      "\n",
      " the label of this sentence is:  1\n"
     ]
    }
   ],
   "source": [
    "sentences = []\n",
    "labels = []\n",
    "for i in range(len(data)):\n",
    "  s = data[i][0]\n",
    "  sentence = \" \".join(s.split())\n",
    "  sentence = sentence.lower()\n",
    "  sentences.append(sentence)\n",
    "  labels.append(data[i][1])\n",
    "print(sentences[0])\n",
    "print(\"\\n\\n the label of this sentence is: \", labels[0])"
   ]
  },
  {
   "cell_type": "markdown",
   "metadata": {
    "id": "0wJYtU0dyNAl"
   },
   "source": [
    "**Separating train/test data**"
   ]
  },
  {
   "cell_type": "code",
   "execution_count": null,
   "metadata": {
    "id": "AXj1VPuZcQeE"
   },
   "outputs": [],
   "source": [
    "split_size = 0.8\n",
    "train_size = int(split_size*len(sentences))\n",
    "\n",
    "# Split the sentences and labels into train/validation splits\n",
    "train_sentences = sentences[0:train_size]\n",
    "train_labels = labels[0:train_size]\n",
    "\n",
    "validation_sentences = sentences[train_size:]\n",
    "validation_labels = labels[train_size:]"
   ]
  },
  {
   "cell_type": "markdown",
   "metadata": {
    "id": "a-QZmmuyyRZo"
   },
   "source": [
    "**Defining global parameters**"
   ]
  },
  {
   "cell_type": "code",
   "execution_count": null,
   "metadata": {
    "id": "5esdaQr9dNZg"
   },
   "outputs": [],
   "source": [
    "#The maximum number of words to keep\n",
    "NUM_WORDS = 1000\n",
    "#Dimension of the dense embedding\n",
    "EMBEDDING_DIM = 16\n",
    "#Maximum length of all sequences\n",
    "MAXLEN = 120\n",
    "#Padding strategy\n",
    "PADDING = 'post'\n",
    "#Token to replace non vocab words\n",
    "NON_VOCAB = \"<>\""
   ]
  },
  {
   "cell_type": "markdown",
   "metadata": {
    "id": "f5Jowdoxzet9"
   },
   "source": [
    "**Tokenizing data**"
   ]
  },
  {
   "cell_type": "code",
   "execution_count": null,
   "metadata": {
    "id": "MAldk6KcyCMA"
   },
   "outputs": [],
   "source": [
    "tokenizer = Tokenizer(num_words = NUM_WORDS, oov_token = NON_VOCAB)\n",
    "tokenizer.fit_on_texts(train_sentences)"
   ]
  },
  {
   "cell_type": "markdown",
   "metadata": {
    "id": "SBupnMwfz6DH"
   },
   "source": [
    "\n",
    "**Creating Padded Sequences**"
   ]
  },
  {
   "cell_type": "code",
   "execution_count": null,
   "metadata": {
    "id": "LT8Wi6tYztlI"
   },
   "outputs": [],
   "source": [
    "train_sequences = tokenizer.texts_to_sequences(train_sentences)\n",
    "train_padded_sequences = pad_sequences(train_sequences, maxlen = MAXLEN, padding = PADDING)\n",
    "\n",
    "validation_sequences = tokenizer.texts_to_sequences(validation_sentences)\n",
    "validation_padded_sequences = pad_sequences(validation_sequences, maxlen = MAXLEN, padding = PADDING)"
   ]
  },
  {
   "cell_type": "code",
   "execution_count": null,
   "metadata": {
    "colab": {
     "base_uri": "https://localhost:8080/"
    },
    "id": "oFBdaVqq9bxg",
    "outputId": "d53c4ed6-94f4-4f99-c288-0b485b46efac"
   },
   "outputs": [
    {
     "name": "stdout",
     "output_type": "stream",
     "text": [
      "(1739, 120)\n"
     ]
    }
   ],
   "source": [
    "print(train_padded_sequences.shape)"
   ]
  },
  {
   "cell_type": "markdown",
   "metadata": {
    "id": "7IONsosu9qkP"
   },
   "source": [
    "**Converting labels to numpy array**"
   ]
  },
  {
   "cell_type": "code",
   "execution_count": null,
   "metadata": {
    "colab": {
     "base_uri": "https://localhost:8080/"
    },
    "id": "nSI2LilJ0KsI",
    "outputId": "8620c547-69df-4e87-e01b-7b1fd8932c57"
   },
   "outputs": [
    {
     "name": "stdout",
     "output_type": "stream",
     "text": [
      "[1. 0. 0. ... 1. 1. 1.]\n",
      "(1739,)\n"
     ]
    }
   ],
   "source": [
    "t_labels = [float(i) for i in train_labels]\n",
    "t_labels = np.array(t_labels)\n",
    "#t_labels = np.reshape(t_labels, (len(train_labels), 1))\n",
    "print(t_labels)\n",
    "print(t_labels.shape)\n",
    "\n",
    "v_labels = [float(i) for i in validation_labels]\n",
    "v_labels = np.array(v_labels)\n",
    "#v_labels = np.reshape(v_labels, (len(validation_labels), 1))"
   ]
  },
  {
   "cell_type": "markdown",
   "metadata": {
    "id": "0PMQvZE-QYw7"
   },
   "source": [
    "**Creating SVM classifier**"
   ]
  },
  {
   "cell_type": "code",
   "execution_count": null,
   "metadata": {
    "colab": {
     "base_uri": "https://localhost:8080/"
    },
    "id": "vDEuOccJQdjn",
    "outputId": "99cbc356-e817-4285-c1c9-eb1a0aa884bb"
   },
   "outputs": [
    {
     "name": "stdout",
     "output_type": "stream",
     "text": [
      "[LibSVM]"
     ]
    }
   ],
   "source": [
    "# Fitting SVM to the Training set\n",
    "from sklearn.svm import SVC\n",
    "\n",
    "classifier = SVC(kernel = 'linear', random_state = 0, verbose=True)\n",
    "classifier.fit(train_padded_sequences, t_labels)"
   ]
  },
  {
   "cell_type": "markdown",
   "metadata": {
    "id": "OpR_t3e-Qhv3"
   },
   "source": [
    "**Predicting the Test set results**"
   ]
  },
  {
   "cell_type": "code",
   "execution_count": null,
   "metadata": {
    "id": "NSEpUQHyQkyB"
   },
   "outputs": [],
   "source": [
    "y_pred = classifier.predict(validation_padded_sequences)"
   ]
  },
  {
   "cell_type": "markdown",
   "metadata": {
    "id": "YxIN1_POQmxL"
   },
   "source": [
    "**Making the Confusion Matrix**"
   ]
  },
  {
   "cell_type": "code",
   "execution_count": null,
   "metadata": {
    "id": "iqAirD5KQr43"
   },
   "outputs": [],
   "source": [
    "from sklearn.metrics import confusion_matrix\n",
    "cm = confusion_matrix(v_labels, y_pred)"
   ]
  },
  {
   "cell_type": "code",
   "execution_count": null,
   "metadata": {
    "id": "t3U9YwEPQtuL"
   },
   "outputs": [],
   "source": [
    "# Visualising the Training set results\n",
    "from matplotlib.colors import ListedColormap\n",
    "X_set, y_set = train_padded_sequences, t_labels\n",
    "X1, X2 = np.meshgrid(np.arange(start = X_set[:, 0].min() - 1, stop = X_set[:, 0].max() + 1, step = 0.01),\n",
    "                     np.arange(start = X_set[:, 1].min() - 1, stop = X_set[:, 1].max() + 1, step = 0.01))\n",
    "plt.contourf(X1, X2, classifier.predict(np.array([X1.ravel(), X2.ravel()]).T).reshape(X1.shape),\n",
    "             alpha = 0.75, cmap = ListedColormap(('red', 'green')))\n",
    "plt.xlim(X1.min(), X1.max())\n",
    "plt.ylim(X2.min(), X2.max())\n",
    "for i, j in enumerate(np.unique(y_set)):\n",
    "    plt.scatter(X_set[y_set == j, 0], X_set[y_set == j, 1],\n",
    "                c = ListedColormap(('blue', 'black'))(i), label = j)\n",
    "plt.title('SVM (Training set)')\n",
    "plt.xlabel('Age')\n",
    "plt.ylabel('Estimated Salary')\n",
    "plt.legend()\n",
    "plt.show()"
   ]
  },
  {
   "cell_type": "code",
   "execution_count": null,
   "metadata": {
    "id": "h2cUNGysQxjo"
   },
   "outputs": [],
   "source": [
    "# Visualising the Test set results\n",
    "from matplotlib.colors import ListedColormap\n",
    "X_set, y_set = validation_padded_sequences, v_labels\n",
    "X1, X2 = np.meshgrid(np.arange(start = X_set[:, 0].min() - 1, stop = X_set[:, 0].max() + 1, step = 0.01),\n",
    "                     np.arange(start = X_set[:, 1].min() - 1, stop = X_set[:, 1].max() + 1, step = 0.01))\n",
    "plt.contourf(X1, X2, classifier.predict(np.array([X1.ravel(), X2.ravel()]).T).reshape(X1.shape),\n",
    "             alpha = 0.75, cmap = ListedColormap(('blue', 'black')))\n",
    "plt.xlim(X1.min(), X1.max())\n",
    "plt.ylim(X2.min(), X2.max())\n",
    "for i, j in enumerate(np.unique(y_set)):\n",
    "    plt.scatter(X_set[y_set == j, 0], X_set[y_set == j, 1],\n",
    "                c = ListedColormap(('blue', 'black'))(i), label = j)\n",
    "plt.title('SVM (Test set)')\n",
    "plt.xlabel('Age')\n",
    "plt.ylabel('Estimated Salary')\n",
    "plt.legend()\n",
    "plt.show()"
   ]
  },
  {
   "cell_type": "code",
   "execution_count": null,
   "metadata": {
    "id": "aLfNweU76JnP"
   },
   "outputs": [],
   "source": []
  },
  {
   "cell_type": "code",
   "execution_count": null,
   "metadata": {
    "id": "2w1L0rjb6Ju_"
   },
   "outputs": [],
   "source": []
  },
  {
   "cell_type": "code",
   "execution_count": null,
   "metadata": {
    "id": "Aj75-1BC6J1S"
   },
   "outputs": [],
   "source": []
  },
  {
   "cell_type": "code",
   "execution_count": null,
   "metadata": {
    "id": "Z9CbAn-16J7S"
   },
   "outputs": [],
   "source": []
  },
  {
   "cell_type": "code",
   "execution_count": null,
   "metadata": {
    "id": "fR_uiv316J_0"
   },
   "outputs": [],
   "source": []
  },
  {
   "cell_type": "code",
   "execution_count": null,
   "metadata": {
    "id": "VfgiCUyX6KCD"
   },
   "outputs": [],
   "source": []
  },
  {
   "cell_type": "code",
   "execution_count": null,
   "metadata": {
    "id": "yT9r9hcJ6KEQ"
   },
   "outputs": [],
   "source": []
  },
  {
   "cell_type": "code",
   "execution_count": null,
   "metadata": {
    "id": "dGj_x0cB6KGa"
   },
   "outputs": [],
   "source": []
  },
  {
   "cell_type": "code",
   "execution_count": null,
   "metadata": {
    "id": "xjMv2rh96KIn"
   },
   "outputs": [],
   "source": []
  },
  {
   "cell_type": "code",
   "execution_count": null,
   "metadata": {
    "id": "_tQdDRQj6KKi"
   },
   "outputs": [],
   "source": []
  },
  {
   "cell_type": "code",
   "execution_count": null,
   "metadata": {
    "id": "eFaacQ6J6KM0"
   },
   "outputs": [],
   "source": []
  },
  {
   "cell_type": "code",
   "execution_count": null,
   "metadata": {
    "id": "biCjhyfK6KPF"
   },
   "outputs": [],
   "source": []
  },
  {
   "cell_type": "code",
   "execution_count": null,
   "metadata": {
    "id": "5_czWSIZ6KRT"
   },
   "outputs": [],
   "source": []
  },
  {
   "cell_type": "code",
   "execution_count": null,
   "metadata": {
    "id": "BzcPCVcg6KTl"
   },
   "outputs": [],
   "source": []
  },
  {
   "cell_type": "code",
   "execution_count": null,
   "metadata": {
    "id": "OSWkJQlH6KV4"
   },
   "outputs": [],
   "source": []
  }
 ],
 "metadata": {
  "colab": {
   "collapsed_sections": [],
   "name": "Copy of NLP.ipynb",
   "provenance": []
  },
  "gpuClass": "standard",
  "kernelspec": {
   "display_name": "Python 3 (ipykernel)",
   "language": "python",
   "name": "python3"
  },
  "language_info": {
   "codemirror_mode": {
    "name": "ipython",
    "version": 3
   },
   "file_extension": ".py",
   "mimetype": "text/x-python",
   "name": "python",
   "nbconvert_exporter": "python",
   "pygments_lexer": "ipython3",
   "version": "3.9.12"
  }
 },
 "nbformat": 4,
 "nbformat_minor": 1
}
