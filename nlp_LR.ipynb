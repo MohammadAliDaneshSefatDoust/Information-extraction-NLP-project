{
 "cells": [
  {
   "cell_type": "markdown",
   "metadata": {
    "id": "kekQs2TatvK_"
   },
   "source": [
    "Mounting Colab on Drive"
   ]
  },
  {
   "cell_type": "code",
   "execution_count": 3,
   "metadata": {
    "colab": {
     "base_uri": "https://localhost:8080/"
    },
    "id": "RWSJpsyKqHjH",
    "outputId": "9eb3a7de-b5d2-459f-bd70-ad354b8af05e"
   },
   "outputs": [
    {
     "name": "stdout",
     "output_type": "stream",
     "text": [
      "Drive already mounted at /content/drive; to attempt to forcibly remount, call drive.mount(\"/content/drive\", force_remount=True).\n"
     ]
    }
   ],
   "source": [
    "from google.colab import drive\n",
    "drive.mount('/content/drive')"
   ]
  },
  {
   "cell_type": "markdown",
   "metadata": {
    "id": "csGsE0ZZt07G"
   },
   "source": [
    "Importing necessary Libraries"
   ]
  },
  {
   "cell_type": "code",
   "execution_count": 4,
   "metadata": {
    "id": "FIdJowi23Qiw"
   },
   "outputs": [],
   "source": [
    "import io\n",
    "import csv\n",
    "import tensorflow as tf\n",
    "import numpy as np\n",
    "import pandas as pd\n",
    "import random\n",
    "from tensorflow.keras.preprocessing.text import Tokenizer\n",
    "from tensorflow.keras.preprocessing.sequence import pad_sequences\n",
    "import matplotlib.pyplot as plt"
   ]
  },
  {
   "cell_type": "markdown",
   "metadata": {
    "id": "32PWEwRYt-9o"
   },
   "source": [
    "Reading data from cvs file into a list"
   ]
  },
  {
   "cell_type": "code",
   "execution_count": 5,
   "metadata": {
    "colab": {
     "base_uri": "https://localhost:8080/"
    },
    "id": "Tc-oMCQO3mvv",
    "outputId": "89495c10-8633-4156-bb95-c1bab89ffd91"
   },
   "outputs": [
    {
     "name": "stdout",
     "output_type": "stream",
     "text": [
      "[\"One of the main ways that Facebook addicts users is games, and now Google+ is following Facebook into gaming.\\n\\nGoogle began introducing games on its social network Thursday, and while it is starting with just a few options, they include big-name games like Angry Birds from Rovio, Bejeweled Blitz from PopCap Games and, most notably, Zynga Poker.\\n\\nZynga has built the vast majority of its business on Facebook, and that business is thriving - Zynga has filed to go public and says it earned $90 million in profit on sales of $597 million last year. But analysts have also criticized it for relying too much on one platform.\\n\\nThat is about to change. Google+ has been growing remarkably quickly, and already it rivals existing social networks. Though it does not have Zynga's most well-known games, FarmVille and Mafia Wars, the two companies already have a partnership because Google has invested in Zynga.\\n\\nGoogle+ users will see a Games page at the top of their news feeds and can click on it to play games or see gaming updates from friends. But updates will be shared only with select circles of people when users are on the Games page, so they will not appear in general news feeds - something that has annoyed Facebook users in the past.\\n\\n''If you're not interested in games, it's easy to ignore them,'' Vic Gundotra, a senior vice president of engineering at Google who developed its social network, wrote in a blog post. ''Your stream will remain focused on conversations with the people you care about.''\\n\\nMeanwhile, Facebook held an event for gaming developers Thursday night and invited reporters to demo new gaming products and speak with developers Friday.\\n\\nGoogle also sent a message to software developers, who have been clamoring to build apps for Google+. It said it was working with only a few game developers now but would open the doors to other developers as soon as it worked out some kinks. Google will invite developers slowly, it said, emphasizing the quality of apps over quantity.\", '1']\n"
     ]
    }
   ],
   "source": [
    "data= []\n",
    "with open(\"/content/drive/MyDrive/English_Dataset.csv\", 'r') as csvfile:\n",
    "    reader = csv.reader(csvfile)\n",
    "    next(reader)\n",
    "    for row in reader:\n",
    "        data.append(row)\n",
    "random.seed(0)\n",
    "random.shuffle(data)\n",
    "print(data[0])       "
   ]
  },
  {
   "cell_type": "markdown",
   "metadata": {
    "id": "6Fsbh9nvuGor"
   },
   "source": [
    "Parsing data from the list and convert upper case letters to lower case"
   ]
  },
  {
   "cell_type": "code",
   "execution_count": 6,
   "metadata": {
    "colab": {
     "base_uri": "https://localhost:8080/"
    },
    "id": "DhsOzQMUHhMk",
    "outputId": "8d442485-c493-4fb7-f285-b9401636560f"
   },
   "outputs": [
    {
     "name": "stdout",
     "output_type": "stream",
     "text": [
      "one of the main ways that facebook addicts users is games, and now google+ is following facebook into gaming. google began introducing games on its social network thursday, and while it is starting with just a few options, they include big-name games like angry birds from rovio, bejeweled blitz from popcap games and, most notably, zynga poker. zynga has built the vast majority of its business on facebook, and that business is thriving - zynga has filed to go public and says it earned $90 million in profit on sales of $597 million last year. but analysts have also criticized it for relying too much on one platform. that is about to change. google+ has been growing remarkably quickly, and already it rivals existing social networks. though it does not have zynga's most well-known games, farmville and mafia wars, the two companies already have a partnership because google has invested in zynga. google+ users will see a games page at the top of their news feeds and can click on it to play games or see gaming updates from friends. but updates will be shared only with select circles of people when users are on the games page, so they will not appear in general news feeds - something that has annoyed facebook users in the past. ''if you're not interested in games, it's easy to ignore them,'' vic gundotra, a senior vice president of engineering at google who developed its social network, wrote in a blog post. ''your stream will remain focused on conversations with the people you care about.'' meanwhile, facebook held an event for gaming developers thursday night and invited reporters to demo new gaming products and speak with developers friday. google also sent a message to software developers, who have been clamoring to build apps for google+. it said it was working with only a few game developers now but would open the doors to other developers as soon as it worked out some kinks. google will invite developers slowly, it said, emphasizing the quality of apps over quantity.\n",
      "\n",
      "\n",
      " the label of this sentence is:  1\n"
     ]
    }
   ],
   "source": [
    "sentences = []\n",
    "labels = []\n",
    "for i in range(len(data)):\n",
    "  s = data[i][0]\n",
    "  sentence = \" \".join(s.split())\n",
    "  sentence = sentence.lower()\n",
    "  sentences.append(sentence)\n",
    "  labels.append(data[i][1])\n",
    "print(sentences[0])\n",
    "print(\"\\n\\n the label of this sentence is: \", labels[0])"
   ]
  },
  {
   "cell_type": "markdown",
   "metadata": {
    "id": "0wJYtU0dyNAl"
   },
   "source": [
    "**Separating train/test data**"
   ]
  },
  {
   "cell_type": "code",
   "execution_count": 7,
   "metadata": {
    "id": "AXj1VPuZcQeE"
   },
   "outputs": [],
   "source": [
    "split_size = 0.8\n",
    "train_size = int(split_size*len(sentences))\n",
    "\n",
    "# Split the sentences and labels into train/validation splits\n",
    "train_sentences = sentences[0:train_size]\n",
    "train_labels = labels[0:train_size]\n",
    "\n",
    "validation_sentences = sentences[train_size:]\n",
    "validation_labels = labels[train_size:]"
   ]
  },
  {
   "cell_type": "markdown",
   "metadata": {
    "id": "a-QZmmuyyRZo"
   },
   "source": [
    "**Defining global parameters**"
   ]
  },
  {
   "cell_type": "code",
   "execution_count": 8,
   "metadata": {
    "id": "5esdaQr9dNZg"
   },
   "outputs": [],
   "source": [
    "#The maximum number of words to keep\n",
    "NUM_WORDS = 1000\n",
    "#Dimension of the dense embedding\n",
    "EMBEDDING_DIM = 16\n",
    "#Maximum length of all sequences\n",
    "MAXLEN = 120\n",
    "#Padding strategy\n",
    "PADDING = 'post'\n",
    "#Token to replace non vocab words\n",
    "NON_VOCAB = \"<>\""
   ]
  },
  {
   "cell_type": "markdown",
   "metadata": {
    "id": "f5Jowdoxzet9"
   },
   "source": [
    "**Tokenizing data**"
   ]
  },
  {
   "cell_type": "code",
   "execution_count": 9,
   "metadata": {
    "id": "MAldk6KcyCMA"
   },
   "outputs": [],
   "source": [
    "tokenizer = Tokenizer(num_words = NUM_WORDS, oov_token = NON_VOCAB)\n",
    "tokenizer.fit_on_texts(train_sentences)"
   ]
  },
  {
   "cell_type": "markdown",
   "metadata": {
    "id": "SBupnMwfz6DH"
   },
   "source": [
    "\n",
    "**Creating Padded Sequences**"
   ]
  },
  {
   "cell_type": "code",
   "execution_count": 10,
   "metadata": {
    "id": "LT8Wi6tYztlI"
   },
   "outputs": [],
   "source": [
    "train_sequences = tokenizer.texts_to_sequences(train_sentences)\n",
    "train_padded_sequences = pad_sequences(train_sequences, maxlen = MAXLEN, padding = PADDING)\n",
    "\n",
    "validation_sequences = tokenizer.texts_to_sequences(validation_sentences)\n",
    "validation_padded_sequences = pad_sequences(validation_sequences, maxlen = MAXLEN, padding = PADDING)"
   ]
  },
  {
   "cell_type": "markdown",
   "metadata": {
    "id": "7IONsosu9qkP"
   },
   "source": [
    "**Converting labels to numpy array**"
   ]
  },
  {
   "cell_type": "code",
   "execution_count": 11,
   "metadata": {
    "colab": {
     "base_uri": "https://localhost:8080/"
    },
    "id": "nSI2LilJ0KsI",
    "outputId": "b7d98398-b224-4f6d-d9fc-a87e47669201"
   },
   "outputs": [
    {
     "name": "stdout",
     "output_type": "stream",
     "text": [
      "[[1.]\n",
      " [0.]\n",
      " [0.]\n",
      " ...\n",
      " [1.]\n",
      " [1.]\n",
      " [1.]]\n",
      "(1739, 1)\n"
     ]
    }
   ],
   "source": [
    "t_labels = [float(i) for i in train_labels]\n",
    "t_labels = np.array(t_labels)\n",
    "t_labels = np.reshape(t_labels, (len(train_labels), 1))\n",
    "print(t_labels)\n",
    "print(t_labels.shape)\n",
    "\n",
    "v_labels = [float(i) for i in validation_labels]\n",
    "v_labels = np.array(v_labels)\n",
    "v_labels = np.reshape(v_labels, (len(validation_labels), 1))"
   ]
  },
  {
   "cell_type": "markdown",
   "metadata": {
    "id": "ID9KZh9gAmxJ"
   },
   "source": [
    "**Create a Model**"
   ]
  },
  {
   "cell_type": "code",
   "execution_count": 12,
   "metadata": {
    "id": "cj7yBWQv90ON"
   },
   "outputs": [],
   "source": [
    "model = tf.keras.Sequential([ \n",
    "        tf.keras.layers.Embedding(NUM_WORDS, EMBEDDING_DIM, input_length = MAXLEN),\n",
    "        tf.keras.layers.GlobalAveragePooling1D(),\n",
    "        #tf.keras.layers.Dense(4, activation = \"relu\"),\n",
    "        #tf.keras.layers.Dropout(0.4),\n",
    "        tf.keras.layers.Dense(1, activation = 'sigmoid')\n",
    "    ])"
   ]
  },
  {
   "cell_type": "markdown",
   "metadata": {
    "id": "mwn4YhkRBEq4"
   },
   "source": [
    "**Compiling the Model**"
   ]
  },
  {
   "cell_type": "code",
   "execution_count": 13,
   "metadata": {
    "id": "8MeZ9kp_-PG-"
   },
   "outputs": [],
   "source": [
    "model.compile(loss=\"binary_crossentropy\",\n",
    "                  optimizer=\"adam\",\n",
    "                  metrics=['accuracy'])"
   ]
  },
  {
   "cell_type": "markdown",
   "metadata": {
    "id": "_34YiXrbBHIW"
   },
   "source": [
    "**Training the Model**"
   ]
  },
  {
   "cell_type": "code",
   "execution_count": 14,
   "metadata": {
    "colab": {
     "base_uri": "https://localhost:8080/"
    },
    "id": "IUV2W-tbBBMH",
    "outputId": "f26c5355-ae47-4091-f793-1b94e762529b"
   },
   "outputs": [
    {
     "name": "stdout",
     "output_type": "stream",
     "text": [
      "Epoch 1/30\n",
      "55/55 [==============================] - 1s 7ms/step - loss: 0.6740 - accuracy: 0.6699 - val_loss: 0.6567 - val_accuracy: 0.6736\n",
      "Epoch 2/30\n",
      "55/55 [==============================] - 0s 3ms/step - loss: 0.6452 - accuracy: 0.6705 - val_loss: 0.6355 - val_accuracy: 0.6736\n",
      "Epoch 3/30\n",
      "55/55 [==============================] - 0s 3ms/step - loss: 0.6297 - accuracy: 0.6705 - val_loss: 0.6244 - val_accuracy: 0.6736\n",
      "Epoch 4/30\n",
      "55/55 [==============================] - 0s 3ms/step - loss: 0.6200 - accuracy: 0.6705 - val_loss: 0.6163 - val_accuracy: 0.6736\n",
      "Epoch 5/30\n",
      "55/55 [==============================] - 0s 4ms/step - loss: 0.6115 - accuracy: 0.6705 - val_loss: 0.6084 - val_accuracy: 0.6736\n",
      "Epoch 6/30\n",
      "55/55 [==============================] - 0s 3ms/step - loss: 0.6023 - accuracy: 0.6705 - val_loss: 0.5998 - val_accuracy: 0.6736\n",
      "Epoch 7/30\n",
      "55/55 [==============================] - 0s 3ms/step - loss: 0.5924 - accuracy: 0.6705 - val_loss: 0.5902 - val_accuracy: 0.6736\n",
      "Epoch 8/30\n",
      "55/55 [==============================] - 0s 3ms/step - loss: 0.5816 - accuracy: 0.6705 - val_loss: 0.5803 - val_accuracy: 0.6736\n",
      "Epoch 9/30\n",
      "55/55 [==============================] - 0s 3ms/step - loss: 0.5700 - accuracy: 0.6705 - val_loss: 0.5695 - val_accuracy: 0.6736\n",
      "Epoch 10/30\n",
      "55/55 [==============================] - 0s 3ms/step - loss: 0.5578 - accuracy: 0.6768 - val_loss: 0.5583 - val_accuracy: 0.6736\n",
      "Epoch 11/30\n",
      "55/55 [==============================] - 0s 3ms/step - loss: 0.5449 - accuracy: 0.6901 - val_loss: 0.5470 - val_accuracy: 0.6828\n",
      "Epoch 12/30\n",
      "55/55 [==============================] - 0s 3ms/step - loss: 0.5320 - accuracy: 0.7021 - val_loss: 0.5358 - val_accuracy: 0.6966\n",
      "Epoch 13/30\n",
      "55/55 [==============================] - 0s 4ms/step - loss: 0.5192 - accuracy: 0.7292 - val_loss: 0.5244 - val_accuracy: 0.7287\n",
      "Epoch 14/30\n",
      "55/55 [==============================] - 0s 4ms/step - loss: 0.5069 - accuracy: 0.7499 - val_loss: 0.5143 - val_accuracy: 0.7333\n",
      "Epoch 15/30\n",
      "55/55 [==============================] - 0s 4ms/step - loss: 0.4945 - accuracy: 0.7642 - val_loss: 0.5047 - val_accuracy: 0.7425\n",
      "Epoch 16/30\n",
      "55/55 [==============================] - 0s 4ms/step - loss: 0.4831 - accuracy: 0.7717 - val_loss: 0.4954 - val_accuracy: 0.7563\n",
      "Epoch 17/30\n",
      "55/55 [==============================] - 0s 3ms/step - loss: 0.4722 - accuracy: 0.7999 - val_loss: 0.4871 - val_accuracy: 0.7632\n",
      "Epoch 18/30\n",
      "55/55 [==============================] - 0s 4ms/step - loss: 0.4621 - accuracy: 0.8039 - val_loss: 0.4802 - val_accuracy: 0.7678\n",
      "Epoch 19/30\n",
      "55/55 [==============================] - 0s 3ms/step - loss: 0.4530 - accuracy: 0.8114 - val_loss: 0.4739 - val_accuracy: 0.7747\n",
      "Epoch 20/30\n",
      "55/55 [==============================] - 0s 3ms/step - loss: 0.4448 - accuracy: 0.8217 - val_loss: 0.4694 - val_accuracy: 0.7724\n",
      "Epoch 21/30\n",
      "55/55 [==============================] - 0s 3ms/step - loss: 0.4358 - accuracy: 0.8200 - val_loss: 0.4637 - val_accuracy: 0.7839\n",
      "Epoch 22/30\n",
      "55/55 [==============================] - 0s 3ms/step - loss: 0.4277 - accuracy: 0.8252 - val_loss: 0.4592 - val_accuracy: 0.7908\n",
      "Epoch 23/30\n",
      "55/55 [==============================] - 0s 3ms/step - loss: 0.4208 - accuracy: 0.8309 - val_loss: 0.4560 - val_accuracy: 0.7908\n",
      "Epoch 24/30\n",
      "55/55 [==============================] - 0s 3ms/step - loss: 0.4136 - accuracy: 0.8309 - val_loss: 0.4528 - val_accuracy: 0.7977\n",
      "Epoch 25/30\n",
      "55/55 [==============================] - 0s 3ms/step - loss: 0.4072 - accuracy: 0.8332 - val_loss: 0.4501 - val_accuracy: 0.8023\n",
      "Epoch 26/30\n",
      "55/55 [==============================] - 0s 3ms/step - loss: 0.4013 - accuracy: 0.8384 - val_loss: 0.4478 - val_accuracy: 0.8000\n",
      "Epoch 27/30\n",
      "55/55 [==============================] - 0s 3ms/step - loss: 0.3951 - accuracy: 0.8390 - val_loss: 0.4465 - val_accuracy: 0.8000\n",
      "Epoch 28/30\n",
      "55/55 [==============================] - 0s 4ms/step - loss: 0.3894 - accuracy: 0.8390 - val_loss: 0.4445 - val_accuracy: 0.7954\n",
      "Epoch 29/30\n",
      "55/55 [==============================] - 0s 3ms/step - loss: 0.3842 - accuracy: 0.8442 - val_loss: 0.4438 - val_accuracy: 0.7977\n",
      "Epoch 30/30\n",
      "55/55 [==============================] - 0s 3ms/step - loss: 0.3786 - accuracy: 0.8482 - val_loss: 0.4436 - val_accuracy: 0.7931\n"
     ]
    }
   ],
   "source": [
    "history = model.fit(train_padded_sequences, t_labels, epochs=30, validation_data=(validation_padded_sequences, v_labels))"
   ]
  },
  {
   "cell_type": "code",
   "execution_count": 15,
   "metadata": {
    "colab": {
     "base_uri": "https://localhost:8080/",
     "height": 541
    },
    "id": "lLMBji-nEInF",
    "outputId": "f009946c-5939-4174-b07a-8663e4144f4e"
   },
   "outputs": [
    {
     "data": {
      "image/png": "[encoded data removed]",
      "text/plain": [
       "<Figure size 432x288 with 1 Axes>"
      ]
     },
     "metadata": {
      "needs_background": "light"
     },
     "output_type": "display_data"
    },
    {
     "data": {
      "image/png": "[encoded data removed]",
      "text/plain": [
       "<Figure size 432x288 with 1 Axes>"
      ]
     },
     "metadata": {
      "needs_background": "light"
     },
     "output_type": "display_data"
    }
   ],
   "source": [
    "def plot_graphs(history, metric):\n",
    "    plt.plot(history.history[metric])\n",
    "    plt.plot(history.history[f'val_{metric}'])\n",
    "    plt.xlabel(\"Epochs\")\n",
    "    plt.ylabel(metric)\n",
    "    plt.legend([metric, f'val_{metric}'])\n",
    "    plt.show()\n",
    "    \n",
    "plot_graphs(history, \"accuracy\")\n",
    "plot_graphs(history, \"loss\")"
   ]
  },
  {
   "cell_type": "markdown",
   "metadata": {
    "id": "0PMQvZE-QYw7"
   },
   "source": [
    "**Creating SVM classifier**"
   ]
  },
  {
   "cell_type": "markdown",
   "metadata": {
    "id": "OpR_t3e-Qhv3"
   },
   "source": [
    "**Predicting the Test set results**"
   ]
  },
  {
   "cell_type": "code",
   "execution_count": 16,
   "metadata": {
    "id": "NSEpUQHyQkyB"
   },
   "outputs": [],
   "source": [
    "y_pred = model.predict(validation_padded_sequences)"
   ]
  },
  {
   "cell_type": "code",
   "execution_count": 21,
   "metadata": {
    "id": "OovRz7-jz-ni"
   },
   "outputs": [],
   "source": [
    "predicted = []\n",
    "for i in y_pred:\n",
    "  if i>=0.5:\n",
    "    predicted.append(1)\n",
    "  else:\n",
    "    predicted.append(0)"
   ]
  },
  {
   "cell_type": "markdown",
   "metadata": {
    "id": "YxIN1_POQmxL"
   },
   "source": [
    "**Making the Confusion Matrix**"
   ]
  },
  {
   "cell_type": "code",
   "execution_count": 23,
   "metadata": {
    "id": "iqAirD5KQr43"
   },
   "outputs": [],
   "source": [
    "from sklearn.metrics import confusion_matrix\n",
    "cm = confusion_matrix(v_labels, predicted)"
   ]
  },
  {
   "cell_type": "code",
   "execution_count": 24,
   "metadata": {
    "colab": {
     "base_uri": "https://localhost:8080/"
    },
    "id": "MO9EPj471B6E",
    "outputId": "a2168de2-f320-494d-dd33-3da163e40f43"
   },
   "outputs": [
    {
     "name": "stdout",
     "output_type": "stream",
     "text": [
      "[[ 78  64]\n",
      " [ 26 267]]\n"
     ]
    }
   ],
   "source": [
    "print(cm)"
   ]
  },
  {
   "cell_type": "code",
   "execution_count": 27,
   "metadata": {
    "colab": {
     "base_uri": "https://localhost:8080/",
     "height": 337
    },
    "id": "D15OnQgN2eqw",
    "outputId": "ee3eecfd-9efa-435e-8a79-08d674c2c3ac"
   },
   "outputs": [
    {
     "data": {
      "image/png": "[encoded data removed]",
      "text/plain": [
       "<Figure size 432x288 with 2 Axes>"
      ]
     },
     "metadata": {
      "needs_background": "light"
     },
     "output_type": "display_data"
    }
   ],
   "source": [
    "import seaborn as sns\n",
    "group_names = ['True Neg','False Pos','False Neg','True Pos']\n",
    "\n",
    "group_counts = [\"{0:0.0f}\".format(value) for value in\n",
    "                cm.flatten()]\n",
    "\n",
    "group_percentages = [\"{0:.2%}\".format(value) for value in\n",
    "                     cm.flatten()/np.sum(cm)]\n",
    "\n",
    "labels = [f\"{v1}\\n{v2}\\n{v3}\" for v1, v2, v3 in\n",
    "          zip(group_names,group_counts,group_percentages)]\n",
    "\n",
    "labels = np.asarray(labels).reshape(2,2)\n",
    "\n",
    "ax = sns.heatmap(cm, annot=labels, fmt='', cmap='Blues')\n",
    "\n",
    "ax.set_title('Seaborn Confusion Matrix with labels\\n\\n');\n",
    "ax.set_xlabel('\\nPredicted Values')\n",
    "ax.set_ylabel('Actual Values ');\n",
    "\n",
    "## Ticket labels - List must be in alphabetical order\n",
    "ax.xaxis.set_ticklabels(['False','True'])\n",
    "ax.yaxis.set_ticklabels(['False','True'])\n",
    "\n",
    "## Display the visualization of the Confusion Matrix.\n",
    "plt.show()"
   ]
  }
 ],
 "metadata": {
  "colab": {
   "collapsed_sections": [],
   "name": "nlp_LR.ipynb",
   "provenance": []
  },
  "gpuClass": "standard",
  "kernelspec": {
   "display_name": "Python 3 (ipykernel)",
   "language": "python",
   "name": "python3"
  },
  "language_info": {
   "codemirror_mode": {
    "name": "ipython",
    "version": 3
   },
   "file_extension": ".py",
   "mimetype": "text/x-python",
   "name": "python",
   "nbconvert_exporter": "python",
   "pygments_lexer": "ipython3",
   "version": "3.9.12"
  }
 },
 "nbformat": 4,
 "nbformat_minor": 1
}
