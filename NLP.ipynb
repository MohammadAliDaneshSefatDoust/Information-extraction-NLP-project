{
 "cells": [
  {
   "cell_type": "markdown",
   "metadata": {
    "id": "kekQs2TatvK_"
   },
   "source": [
    "Mounting Colab on Drive"
   ]
  },
  {
   "cell_type": "code",
   "execution_count": 131,
   "metadata": {
    "colab": {
     "base_uri": "https://localhost:8080/"
    },
    "id": "RWSJpsyKqHjH",
    "outputId": "db2d2fd9-e94a-4f57-edd2-82d89a4c375f"
   },
   "outputs": [
    {
     "name": "stdout",
     "output_type": "stream",
     "text": [
      "Drive already mounted at /content/drive; to attempt to forcibly remount, call drive.mount(\"/content/drive\", force_remount=True).\n"
     ]
    }
   ],
   "source": [
    "from google.colab import drive\n",
    "drive.mount('/content/drive')"
   ]
  },
  {
   "cell_type": "markdown",
   "metadata": {
    "id": "csGsE0ZZt07G"
   },
   "source": [
    "Importing necessary Libraries"
   ]
  },
  {
   "cell_type": "code",
   "execution_count": 132,
   "metadata": {
    "id": "FIdJowi23Qiw"
   },
   "outputs": [],
   "source": [
    "import io\n",
    "import csv\n",
    "import tensorflow as tf\n",
    "import numpy as np\n",
    "import pandas as pd\n",
    "import random\n",
    "from tensorflow.keras.preprocessing.text import Tokenizer\n",
    "from tensorflow.keras.preprocessing.sequence import pad_sequences\n",
    "import matplotlib.pyplot as plt"
   ]
  },
  {
   "cell_type": "markdown",
   "metadata": {
    "id": "32PWEwRYt-9o"
   },
   "source": [
    "Reading data from cvs file into a list"
   ]
  },
  {
   "cell_type": "code",
   "execution_count": 133,
   "metadata": {
    "colab": {
     "base_uri": "https://localhost:8080/"
    },
    "id": "Tc-oMCQO3mvv",
    "outputId": "41891ca7-03cd-47a0-96ce-cb475f5fb397"
   },
   "outputs": [
    {
     "name": "stdout",
     "output_type": "stream",
     "text": [
      "[\"One of the main ways that Facebook addicts users is games, and now Google+ is following Facebook into gaming.\\n\\nGoogle began introducing games on its social network Thursday, and while it is starting with just a few options, they include big-name games like Angry Birds from Rovio, Bejeweled Blitz from PopCap Games and, most notably, Zynga Poker.\\n\\nZynga has built the vast majority of its business on Facebook, and that business is thriving - Zynga has filed to go public and says it earned $90 million in profit on sales of $597 million last year. But analysts have also criticized it for relying too much on one platform.\\n\\nThat is about to change. Google+ has been growing remarkably quickly, and already it rivals existing social networks. Though it does not have Zynga's most well-known games, FarmVille and Mafia Wars, the two companies already have a partnership because Google has invested in Zynga.\\n\\nGoogle+ users will see a Games page at the top of their news feeds and can click on it to play games or see gaming updates from friends. But updates will be shared only with select circles of people when users are on the Games page, so they will not appear in general news feeds - something that has annoyed Facebook users in the past.\\n\\n''If you're not interested in games, it's easy to ignore them,'' Vic Gundotra, a senior vice president of engineering at Google who developed its social network, wrote in a blog post. ''Your stream will remain focused on conversations with the people you care about.''\\n\\nMeanwhile, Facebook held an event for gaming developers Thursday night and invited reporters to demo new gaming products and speak with developers Friday.\\n\\nGoogle also sent a message to software developers, who have been clamoring to build apps for Google+. It said it was working with only a few game developers now but would open the doors to other developers as soon as it worked out some kinks. Google will invite developers slowly, it said, emphasizing the quality of apps over quantity.\", '1']\n"
     ]
    }
   ],
   "source": [
    "data= []\n",
    "with open(\"/content/drive/MyDrive/English_Dataset.csv\", 'r') as csvfile:\n",
    "    reader = csv.reader(csvfile)\n",
    "    next(reader)\n",
    "    for row in reader:\n",
    "        data.append(row)\n",
    "random.seed(0)\n",
    "random.shuffle(data)\n",
    "print(data[0])       "
   ]
  },
  {
   "cell_type": "markdown",
   "metadata": {
    "id": "6Fsbh9nvuGor"
   },
   "source": [
    "Parsing data from the list and convert upper case letters to lower case"
   ]
  },
  {
   "cell_type": "code",
   "execution_count": 134,
   "metadata": {
    "colab": {
     "base_uri": "https://localhost:8080/"
    },
    "id": "DhsOzQMUHhMk",
    "outputId": "8a0ea4dc-c64c-4d5c-ddc4-d34603623805"
   },
   "outputs": [
    {
     "name": "stdout",
     "output_type": "stream",
     "text": [
      "one of the main ways that facebook addicts users is games, and now google+ is following facebook into gaming. google began introducing games on its social network thursday, and while it is starting with just a few options, they include big-name games like angry birds from rovio, bejeweled blitz from popcap games and, most notably, zynga poker. zynga has built the vast majority of its business on facebook, and that business is thriving - zynga has filed to go public and says it earned $90 million in profit on sales of $597 million last year. but analysts have also criticized it for relying too much on one platform. that is about to change. google+ has been growing remarkably quickly, and already it rivals existing social networks. though it does not have zynga's most well-known games, farmville and mafia wars, the two companies already have a partnership because google has invested in zynga. google+ users will see a games page at the top of their news feeds and can click on it to play games or see gaming updates from friends. but updates will be shared only with select circles of people when users are on the games page, so they will not appear in general news feeds - something that has annoyed facebook users in the past. ''if you're not interested in games, it's easy to ignore them,'' vic gundotra, a senior vice president of engineering at google who developed its social network, wrote in a blog post. ''your stream will remain focused on conversations with the people you care about.'' meanwhile, facebook held an event for gaming developers thursday night and invited reporters to demo new gaming products and speak with developers friday. google also sent a message to software developers, who have been clamoring to build apps for google+. it said it was working with only a few game developers now but would open the doors to other developers as soon as it worked out some kinks. google will invite developers slowly, it said, emphasizing the quality of apps over quantity.\n",
      "\n",
      "\n",
      " the label of this sentence is:  1\n"
     ]
    }
   ],
   "source": [
    "sentences = []\n",
    "labels = []\n",
    "for i in range(len(data)):\n",
    "  s = data[i][0]\n",
    "  sentence = \" \".join(s.split())\n",
    "  sentence = sentence.lower()\n",
    "  sentences.append(sentence)\n",
    "  labels.append(data[i][1])\n",
    "print(sentences[0])\n",
    "print(\"\\n\\n the label of this sentence is: \", labels[0])"
   ]
  },
  {
   "cell_type": "markdown",
   "metadata": {
    "id": "0wJYtU0dyNAl"
   },
   "source": [
    "**Separating train/test data**"
   ]
  },
  {
   "cell_type": "code",
   "execution_count": 135,
   "metadata": {
    "id": "AXj1VPuZcQeE"
   },
   "outputs": [],
   "source": [
    "split_size = 0.8\n",
    "train_size = int(split_size*len(sentences))\n",
    "\n",
    "# Split the sentences and labels into train/validation splits\n",
    "train_sentences = sentences[0:train_size]\n",
    "train_labels = labels[0:train_size]\n",
    "\n",
    "validation_sentences = sentences[train_size:]\n",
    "validation_labels = labels[train_size:]"
   ]
  },
  {
   "cell_type": "markdown",
   "metadata": {
    "id": "a-QZmmuyyRZo"
   },
   "source": [
    "**Defining global parameters**"
   ]
  },
  {
   "cell_type": "code",
   "execution_count": 136,
   "metadata": {
    "id": "5esdaQr9dNZg"
   },
   "outputs": [],
   "source": [
    "#The maximum number of words to keep\n",
    "NUM_WORDS = 1000\n",
    "#Dimension of the dense embedding\n",
    "EMBEDDING_DIM = 16\n",
    "#Maximum length of all sequences\n",
    "MAXLEN = 120\n",
    "#Padding strategy\n",
    "PADDING = 'post'\n",
    "#Token to replace non vocab words\n",
    "NON_VOCAB = \"<>\""
   ]
  },
  {
   "cell_type": "markdown",
   "metadata": {
    "id": "f5Jowdoxzet9"
   },
   "source": [
    "**Tokenizing data**"
   ]
  },
  {
   "cell_type": "code",
   "execution_count": 137,
   "metadata": {
    "id": "MAldk6KcyCMA"
   },
   "outputs": [],
   "source": [
    "tokenizer = Tokenizer(num_words = NUM_WORDS, oov_token = NON_VOCAB)\n",
    "tokenizer.fit_on_texts(train_sentences)"
   ]
  },
  {
   "cell_type": "markdown",
   "metadata": {
    "id": "SBupnMwfz6DH"
   },
   "source": [
    "\n",
    "**Creating Padded Sequences**"
   ]
  },
  {
   "cell_type": "code",
   "execution_count": 138,
   "metadata": {
    "id": "LT8Wi6tYztlI"
   },
   "outputs": [],
   "source": [
    "train_sequences = tokenizer.texts_to_sequences(train_sentences)\n",
    "train_padded_sequences = pad_sequences(train_sequences, maxlen = MAXLEN, padding = PADDING)\n",
    "\n",
    "validation_sequences = tokenizer.texts_to_sequences(validation_sentences)\n",
    "validation_padded_sequences = pad_sequences(validation_sequences, maxlen = MAXLEN, padding = PADDING)"
   ]
  },
  {
   "cell_type": "markdown",
   "metadata": {
    "id": "7IONsosu9qkP"
   },
   "source": [
    "**Converting labels to numpy array**"
   ]
  },
  {
   "cell_type": "code",
   "execution_count": 139,
   "metadata": {
    "colab": {
     "base_uri": "https://localhost:8080/"
    },
    "id": "nSI2LilJ0KsI",
    "outputId": "6735507d-19e8-4220-a811-5e99e264fa09"
   },
   "outputs": [
    {
     "name": "stdout",
     "output_type": "stream",
     "text": [
      "[[1.]\n",
      " [0.]\n",
      " [0.]\n",
      " ...\n",
      " [1.]\n",
      " [1.]\n",
      " [1.]]\n",
      "(1739, 1)\n"
     ]
    }
   ],
   "source": [
    "t_labels = [float(i) for i in train_labels]\n",
    "t_labels = np.array(t_labels)\n",
    "t_labels = np.reshape(t_labels, (len(train_labels), 1))\n",
    "print(t_labels)\n",
    "print(t_labels.shape)\n",
    "\n",
    "v_labels = [float(i) for i in validation_labels]\n",
    "v_labels = np.array(v_labels)\n",
    "v_labels = np.reshape(v_labels, (len(validation_labels), 1))"
   ]
  },
  {
   "cell_type": "markdown",
   "metadata": {
    "id": "ID9KZh9gAmxJ"
   },
   "source": [
    "**Create a Model**"
   ]
  },
  {
   "cell_type": "code",
   "execution_count": 163,
   "metadata": {
    "id": "cj7yBWQv90ON"
   },
   "outputs": [],
   "source": [
    "model = tf.keras.Sequential([ \n",
    "        tf.keras.layers.Embedding(NUM_WORDS, EMBEDDING_DIM, input_length = MAXLEN),\n",
    "        tf.keras.layers.GlobalAveragePooling1D(),\n",
    "        tf.keras.layers.Dense(4, activation = \"relu\"),\n",
    "        tf.keras.layers.Dropout(0.4),\n",
    "        tf.keras.layers.Dense(1, activation = 'sigmoid')\n",
    "    ])"
   ]
  },
  {
   "cell_type": "markdown",
   "metadata": {
    "id": "mwn4YhkRBEq4"
   },
   "source": [
    "**Compiling the Model**"
   ]
  },
  {
   "cell_type": "code",
   "execution_count": 164,
   "metadata": {
    "id": "8MeZ9kp_-PG-"
   },
   "outputs": [],
   "source": [
    "model.compile(loss=\"binary_crossentropy\",\n",
    "                  optimizer=\"adam\",\n",
    "                  metrics=['accuracy'])"
   ]
  },
  {
   "cell_type": "markdown",
   "metadata": {
    "id": "_34YiXrbBHIW"
   },
   "source": [
    "**Training the Model**"
   ]
  },
  {
   "cell_type": "code",
   "execution_count": 165,
   "metadata": {
    "colab": {
     "base_uri": "https://localhost:8080/"
    },
    "id": "IUV2W-tbBBMH",
    "outputId": "6676a99a-f28c-4093-dd3a-c6b4d80d5967"
   },
   "outputs": [
    {
     "name": "stdout",
     "output_type": "stream",
     "text": [
      "Epoch 1/30\n",
      "55/55 [==============================] - 1s 7ms/step - loss: 0.6710 - accuracy: 0.6711 - val_loss: 0.6531 - val_accuracy: 0.6736\n",
      "Epoch 2/30\n",
      "55/55 [==============================] - 0s 5ms/step - loss: 0.6455 - accuracy: 0.6705 - val_loss: 0.6340 - val_accuracy: 0.6736\n",
      "Epoch 3/30\n",
      "55/55 [==============================] - 0s 5ms/step - loss: 0.6427 - accuracy: 0.6705 - val_loss: 0.6250 - val_accuracy: 0.6736\n",
      "Epoch 4/30\n",
      "55/55 [==============================] - 0s 6ms/step - loss: 0.6302 - accuracy: 0.6705 - val_loss: 0.6153 - val_accuracy: 0.6736\n",
      "Epoch 5/30\n",
      "55/55 [==============================] - 0s 7ms/step - loss: 0.6230 - accuracy: 0.6705 - val_loss: 0.6058 - val_accuracy: 0.6736\n",
      "Epoch 6/30\n",
      "55/55 [==============================] - 0s 7ms/step - loss: 0.6078 - accuracy: 0.6705 - val_loss: 0.5914 - val_accuracy: 0.6736\n",
      "Epoch 7/30\n",
      "55/55 [==============================] - 0s 7ms/step - loss: 0.5920 - accuracy: 0.6705 - val_loss: 0.5750 - val_accuracy: 0.6736\n",
      "Epoch 8/30\n",
      "55/55 [==============================] - 0s 7ms/step - loss: 0.5724 - accuracy: 0.6705 - val_loss: 0.5551 - val_accuracy: 0.6736\n",
      "Epoch 9/30\n",
      "55/55 [==============================] - 0s 8ms/step - loss: 0.5578 - accuracy: 0.6998 - val_loss: 0.5377 - val_accuracy: 0.6805\n",
      "Epoch 10/30\n",
      "55/55 [==============================] - 0s 7ms/step - loss: 0.5315 - accuracy: 0.7338 - val_loss: 0.5198 - val_accuracy: 0.7310\n",
      "Epoch 11/30\n",
      "55/55 [==============================] - 0s 7ms/step - loss: 0.5268 - accuracy: 0.7418 - val_loss: 0.5063 - val_accuracy: 0.7540\n",
      "Epoch 12/30\n",
      "55/55 [==============================] - 0s 7ms/step - loss: 0.5122 - accuracy: 0.7510 - val_loss: 0.4923 - val_accuracy: 0.7632\n",
      "Epoch 13/30\n",
      "55/55 [==============================] - 0s 7ms/step - loss: 0.5059 - accuracy: 0.7487 - val_loss: 0.4819 - val_accuracy: 0.7701\n",
      "Epoch 14/30\n",
      "55/55 [==============================] - 0s 8ms/step - loss: 0.4785 - accuracy: 0.7591 - val_loss: 0.4732 - val_accuracy: 0.7701\n",
      "Epoch 15/30\n",
      "55/55 [==============================] - 0s 7ms/step - loss: 0.4614 - accuracy: 0.7694 - val_loss: 0.4635 - val_accuracy: 0.7931\n",
      "Epoch 16/30\n",
      "55/55 [==============================] - 0s 6ms/step - loss: 0.4634 - accuracy: 0.7700 - val_loss: 0.4599 - val_accuracy: 0.7839\n",
      "Epoch 17/30\n",
      "55/55 [==============================] - 0s 5ms/step - loss: 0.4594 - accuracy: 0.7539 - val_loss: 0.4607 - val_accuracy: 0.7655\n",
      "Epoch 18/30\n",
      "55/55 [==============================] - 0s 5ms/step - loss: 0.4455 - accuracy: 0.7734 - val_loss: 0.4569 - val_accuracy: 0.7724\n",
      "Epoch 19/30\n",
      "55/55 [==============================] - 0s 6ms/step - loss: 0.4350 - accuracy: 0.7930 - val_loss: 0.4522 - val_accuracy: 0.7862\n",
      "Epoch 20/30\n",
      "55/55 [==============================] - 0s 5ms/step - loss: 0.4364 - accuracy: 0.7832 - val_loss: 0.4492 - val_accuracy: 0.7908\n",
      "Epoch 21/30\n",
      "55/55 [==============================] - 0s 4ms/step - loss: 0.4337 - accuracy: 0.7786 - val_loss: 0.4473 - val_accuracy: 0.7931\n",
      "Epoch 22/30\n",
      "55/55 [==============================] - 0s 4ms/step - loss: 0.4268 - accuracy: 0.7780 - val_loss: 0.4493 - val_accuracy: 0.7793\n",
      "Epoch 23/30\n",
      "55/55 [==============================] - 0s 4ms/step - loss: 0.4196 - accuracy: 0.7844 - val_loss: 0.4515 - val_accuracy: 0.7770\n",
      "Epoch 24/30\n",
      "55/55 [==============================] - 0s 4ms/step - loss: 0.4039 - accuracy: 0.7953 - val_loss: 0.4463 - val_accuracy: 0.7816\n",
      "Epoch 25/30\n",
      "55/55 [==============================] - 0s 4ms/step - loss: 0.4026 - accuracy: 0.7947 - val_loss: 0.4518 - val_accuracy: 0.7770\n",
      "Epoch 26/30\n",
      "55/55 [==============================] - 0s 4ms/step - loss: 0.4052 - accuracy: 0.8005 - val_loss: 0.4508 - val_accuracy: 0.7839\n",
      "Epoch 27/30\n",
      "55/55 [==============================] - 0s 5ms/step - loss: 0.3851 - accuracy: 0.8062 - val_loss: 0.4547 - val_accuracy: 0.7747\n",
      "Epoch 28/30\n",
      "55/55 [==============================] - 0s 5ms/step - loss: 0.3949 - accuracy: 0.7878 - val_loss: 0.4549 - val_accuracy: 0.7816\n",
      "Epoch 29/30\n",
      "55/55 [==============================] - 0s 5ms/step - loss: 0.3742 - accuracy: 0.7930 - val_loss: 0.4516 - val_accuracy: 0.7931\n",
      "Epoch 30/30\n",
      "55/55 [==============================] - 0s 6ms/step - loss: 0.3803 - accuracy: 0.8045 - val_loss: 0.4521 - val_accuracy: 0.7931\n"
     ]
    }
   ],
   "source": [
    "history = model.fit(train_padded_sequences, t_labels, epochs=30, validation_data=(validation_padded_sequences, v_labels))"
   ]
  },
  {
   "cell_type": "code",
   "execution_count": 166,
   "metadata": {
    "colab": {
     "base_uri": "https://localhost:8080/",
     "height": 541
    },
    "id": "lLMBji-nEInF",
    "outputId": "d3027fcc-fbe1-4c12-c030-de27c3aea03b"
   },
   "outputs": [
    {
     "data": {
      "image/png": "[encoded data removed]",
      "text/plain": [
       "<Figure size 432x288 with 1 Axes>"
      ]
     },
     "metadata": {
      "needs_background": "light"
     },
     "output_type": "display_data"
    },
    {
     "data": {
      "image/png": "[encoded data removed]",
      "text/plain": [
       "<Figure size 432x288 with 1 Axes>"
      ]
     },
     "metadata": {
      "needs_background": "light"
     },
     "output_type": "display_data"
    }
   ],
   "source": [
    "def plot_graphs(history, metric):\n",
    "    plt.plot(history.history[metric])\n",
    "    plt.plot(history.history[f'val_{metric}'])\n",
    "    plt.xlabel(\"Epochs\")\n",
    "    plt.ylabel(metric)\n",
    "    plt.legend([metric, f'val_{metric}'])\n",
    "    plt.show()\n",
    "    \n",
    "plot_graphs(history, \"accuracy\")\n",
    "plot_graphs(history, \"loss\")"
   ]
  }
 ],
 "metadata": {
  "colab": {
   "collapsed_sections": [],
   "name": "NLP.ipynb",
   "provenance": []
  },
  "gpuClass": "standard",
  "kernelspec": {
   "display_name": "Python 3 (ipykernel)",
   "language": "python",
   "name": "python3"
  },
  "language_info": {
   "codemirror_mode": {
    "name": "ipython",
    "version": 3
   },
   "file_extension": ".py",
   "mimetype": "text/x-python",
   "name": "python",
   "nbconvert_exporter": "python",
   "pygments_lexer": "ipython3",
   "version": "3.9.12"
  }
 },
 "nbformat": 4,
 "nbformat_minor": 1
}
